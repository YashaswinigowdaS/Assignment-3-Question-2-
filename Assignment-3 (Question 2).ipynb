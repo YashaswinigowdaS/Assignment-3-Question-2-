{
 "cells": [
  {
   "cell_type": "markdown",
   "id": "8e4cf8ca",
   "metadata": {},
   "source": [
    "# write a python program to reversew a string."
   ]
  },
  {
   "cell_type": "code",
   "execution_count": 2,
   "id": "2654902f",
   "metadata": {},
   "outputs": [
    {
     "name": "stdout",
     "output_type": "stream",
     "text": [
      "Enter string:1234abcd\n",
      "dcba4321\n"
     ]
    }
   ],
   "source": [
    "a=input(\"Enter string:\")\n",
    "print(a[::-1])"
   ]
  },
  {
   "cell_type": "code",
   "execution_count": null,
   "id": "34f62823",
   "metadata": {},
   "outputs": [],
   "source": []
  }
 ],
 "metadata": {
  "kernelspec": {
   "display_name": "Python 3 (ipykernel)",
   "language": "python",
   "name": "python3"
  },
  "language_info": {
   "codemirror_mode": {
    "name": "ipython",
    "version": 3
   },
   "file_extension": ".py",
   "mimetype": "text/x-python",
   "name": "python",
   "nbconvert_exporter": "python",
   "pygments_lexer": "ipython3",
   "version": "3.11.0"
  }
 },
 "nbformat": 4,
 "nbformat_minor": 5
}
